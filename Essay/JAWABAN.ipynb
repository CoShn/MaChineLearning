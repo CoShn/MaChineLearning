{
 "cells": [
  {
   "cell_type": "code",
   "execution_count": null,
   "metadata": {},
   "outputs": [],
   "source": [
    "1.\tPembelajaran mesin, cabang dari kecerdasan buatan (Artificial Inteligent), adalah disiplin ilmu yang mencakup perancangan dan pengembangan algoritme yang memungkinkan komputer untuk mengembangkan perilaku berdasarkan data empiris, seperti dari sensor data basis data.\n",
    "2.\t- Hasil Pencarian Search Engine  Membantu pengguna menemukan informasi yang relevan dengan cepat dan efisien. Ketika mencari sesuatu di internet, hasil pencarian search engine membantu mengarahkan pengguna ke sumber daya yang paling relevan dan berguna.\n",
    "\n",
    "- Rekomendasi Produk Marketplace  Memudahkan pengguna dalam mencari dan memilih produk yang sesuai dengan kebutuhan dan preferensinya. Rekomendasi produk marketplace juga dapat membantu pengguna menemukan produk terbaik dan mengevaluasi opsi lain yang mungkin tidak pernah dipertimbangkan.\n",
    "\n",
    "- Pengalaman Penggunaan Sosial Media  Memberikan wawasan tentang pengalaman pengguna dalam menggunakan aplikasi sosial media. Informasi ini dapat membantu pihak yang mengelola platform tersebut memperbaiki fitur dan menyediakan pengalaman yang lebih baik bagi pengguna.\n",
    "\n",
    "- Konten yang Ditampilkan Periklanan Digital  Memungkinkan pengiklan untuk menjangkau audiens yang lebih luas dan lebih relevan. Konten yang ditampilkan dalam periklanan digital dapat membantu pengguna menemukan produk atau layanan yang mereka butuhkan, serta memberikan informasi atau penawaran yang bermanfaat.\n",
    "\n",
    "- Asisten Pribadi Virtual  Membantu pengguna dalam menjalankan tugas sehari-hari, seperti menjadwalkan pertemuan, mengirim pesan, atau melakukan pencarian informasi. Asisten pribadi virtual secara efektif meningkatkan produktivitas pengguna dengan menyediakan bantuan yang cepat dan mudah diakses.\n",
    "\n",
    "- Fraud Detection  Melindungi pengguna dari aktivitas penipuan atau kejahatan online. Dengan mendeteksi pola perilaku yang mencurigakan atau transaksi yang tidak biasa, fraud detection dapat membantu mencegah kerugian finansial dan kerugian lainnya yang disebabkan oleh aktivitas kejahatan.\n",
    "\n",
    "- Diagnosa Medis  Mendukung proses pengobatan dan diagnosis penyakit dengan memberikan informasi dan rekomendasi yang akurat. Diagnosa medis berbasis teknologi dapat membantu dokter dan tenaga medis dalam menganalisis gejala, mendiagnosis penyakit dengan lebih cepat, dan mengarahkan pengobatan yang sesuai.\n",
    "\n",
    "- Mobil Kendali Otomatis  Meningkatkan keamanan, efisiensi, dan kenyamanan dalam berkendara. Mobil kendali otomatis menggunakan teknologi seperti sensor dan kecerdasan buatan untuk mengendalikan fungsi kendaraan, mengurangi risiko kecelakaan, dan memberikan pengalaman berkendara yang lebih nyaman dan hemat energi.\n",
    "\n",
    "Manfaat dari implementasi Mahine Learning dalam kehidupan sehari-hari ialah :\n",
    "-\tEfisiensi : Semua teknologi di atas membantu kita menghemat waktu dan usaha dalam mencari informasi, membeli produk, atau menjalankan tugas-tugas harian.\n",
    "-\tKemudahan Akses : Dengan teknologi ini, informasi, layanan, dan produk dapat diakses dengan mudah dan cepat, tanpa harus menghabiskan waktu dan tenaga yang berlebihan.\n",
    "-\tKeamanan : Teknologi seperti fraud detection dan kendali otomatis mobil membantu melindungi kita dari risiko dan bahaya yang mungkin terjadi.\n",
    "-\tKualitas Hidup yang lebih baik : Dengan memberikan rekomendasi produk yang akurat, pengalaman pengguna yang lebih baik dalam sosial media, dan diagnosa medis yang lebih tepat, teknologi di atas dapat meningkatkan kualitas hidup kita secara keseluruhan.\n",
    "\n",
    "3.\tMachine Learning \n",
    " \tSupervised : Salah satu tipe dimana model atau algoritma belajar dari data yang telah diberi label atau anotasi. Data set terdiri dari pasangan input-output dimana input adalah fitur atau atribut, sedangkan output adalah label atau target yang telah diberikn oleh manusia.\n",
    "-\tLinear (Linear Regression) : algoritma pembelajaran terawasi yang digunakan untuk tugas regresi. Ini mencoba menemukan hubungan linier terbaik antara variabel masukan dan variabel keluaran yang kontinu.\n",
    "-\tLogistic Regression : Algoritma ini digunakan untuk tugas klasifikasi biner. Ini memodelkan probabilitas titik data milik kelas tertentu menggunakan fungsi logistik.\n",
    "-\tPerceptron : Ini adalah unit dasar dari jaringan saraf buatan yang digunakan untuk klasifikasi biner. Ini mengambil jumlah bobot fitur masukan, menerapkan fungsi aktivasi, dan menghasilkan keluaran.\n",
    "\n",
    "-\tNon-Linear (Single) : Selain model linier, terdapat juga algoritma pembelajaran terawasi non-linier yang dapat menangkap pola kompleks dalam data.\n",
    "-\tDecision Tree : struktur mirip aliran diagram di mana setiap simpul internal mewakili fitur, setiap cabang mewakili aturan keputusan, dan setiap simpul dedaunan mewakili hasil. Digunakan untuk tugas regresi dan klasifikasi.\n",
    "-\tRule Learning : Pendekatan ini melibatkan pembelajaran sekumpulan aturan jika maka dari data. Biasanya digunakan untuk tugas klasifikasi.\n",
    "-\tNaïve Bayes : Algoritma ini didasarkan pada teorema Bayes dan mengasumsikan bahwa fitur-fitur saling independen. Biasanya digunakan untuk klasifikasi teks.\n",
    "-\tK-Nearest Neighbours : Ini adalah algoritma sederhana yang mengklasifikasikan titik data berdasarkan label kelas tetangga terdekatnya dalam ruang fitur.\n",
    "-\tMulti-Layer Perceptron : Ini adalah jenis jaringan saraf buatan yang terdiri dari beberapa lapisan simpul (neuron). Digunakan untuk pembelajaran mendalam dan dapat menangani masalah kompleks.\n",
    "-\tSupport Vector Machine : Ini adalah algoritma kuat yang digunakan untuk tugas klasifikasi dan regresi. SVM bertujuan untuk menemukan hiperrata terbaik yang memisahkan titik data ke dalam kelas yang berbeda atau memprediksi nilai numerik.\n",
    "-\tCombined (Bagging) : Bagging adalah metode ensemble yang melibatkan pelatihan model-model yang berbeda pada subset data pelatihan dan menggabungkan prediksi mereka melalui pemungutan suara atau pengaveragen. Ini membantu mengurangi overfitting.\n",
    "-\tBoosting : Boosting adalah metode ensemble lainnya yang melatih model-model lemah secara berurutan, di mana setiap model mencoba memperbaiki kesalahan model sebelumnya. Dikenal karena kemampuannya meningkatkan akurasi model.\n",
    "-\tRandom Forest : adalah metode pembelajaran ensemble yang menggabungkan beberapa pohon keputusan. Membentuk hutan pohon yang beragam dan prediksi dibuat dengan mengaverase prediksi dari pohon-pohon individu.\n",
    "\n",
    "Unsupervised : merujuk pada pelatihan model tanpa data berlabel, di mana tujuannya adalah menemukan pola, struktur, atau hubungan dalam data.\n",
    "-\tK-Means : Ini adalah algoritma clustering yang populer yang menugaskan titik data ke dalam kelompok berdasarkan kedekatan dengan centroid kelompok. Jumlah kelompok (k) telah ditentukan sebelumnya.\n",
    "-\tExpectation-Maximization    : EM adalah algoritma iteratif yang digunakan untuk tugas clustering dan estimasi kepadatan. Ini mengestimasi parameter-model probabilitas dengan memaksimalkan fungsi kemungkinan.\n",
    "-\tSelf Organizing Maps    : adalah jenis jaringan saraf yang belajar memetakan data berdimensi tinggi ke dalam grid berdimensi lebih rendah. Biasanya digunakan untuk visualisasi data dan ekstraksi\n",
    "Reinforced : adalah jenis pembelajaran mesin di mana agen belajar berinteraksi dengan lingkungannya dan membuat keputusan berurutan untuk memaksimalkan sinyal hadiah.\n",
    "-\tReal-Time Decision  : Dalam tugas keputusan real-time, agen membuat keputusan secara real-time berdasarkan kondisi terkini dari lingkungan, pengalaman masa lalu, dan tujuan yang diinginkan.\n",
    "-\tRobot Navigation    : Pembelajaran penguatan dapat digunakan untuk melatih robot dalam navigasi dan eksplorasi lingkungannya. Robot belajar untuk mengambil tindakan yang memaksimalkan hadiah keseluruhan, seperti menghindari hambatan atau mencapai lokasi tertentu.\n",
    "-\tLearning Task : Pembelajaran penguatan dapat diterapkan pada berbagai tugas pembelajaran, seperti belajar bermain game, mengendalikan sistem, atau mengoptimalkan alokasi sumber daya.\n",
    "-\tGame AI : Pembelajaran penguatan sering digunakan dalam game AI untuk melatih agen yang dapat bermain game dan meningkatkan performa mereka dari waktu ke waktu dengan belajar dari kesalahan dan keberhasilan.\n",
    "-\tSkill Acquisition : Pembelajaran penguatan dapat membantu dalam tugas akuisisi keterampilan di mana agen belajar dan menyempurnakan keterampilan berdasarkan umpan balik dan hadiah. Ini mungkin termasuk tugas seperti belajar berjalan, seimbang, atau melakukan tindakan kompleks.\n"
   ]
  }
 ],
 "metadata": {
  "language_info": {
   "name": "python"
  }
 },
 "nbformat": 4,
 "nbformat_minor": 2
}
