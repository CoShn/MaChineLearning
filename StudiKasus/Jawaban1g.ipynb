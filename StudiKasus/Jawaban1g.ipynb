{
 "cells": [
  {
   "cell_type": "code",
   "execution_count": 1,
   "metadata": {},
   "outputs": [
    {
     "name": "stdout",
     "output_type": "stream",
     "text": [
      "DataFrame:\n",
      "  Mahasiswa   Biaya Hari Datang  Jumlah Hari  Total Biaya\n",
      "0       Ani   60000       Senin            2       120000\n",
      "1      Budi  105000      Selasa            3       315000\n",
      "2      Jono  100000        Rabu            4       400000\n",
      "3      Lono   15000       Kamis            1        15000\n",
      "4      Joni   40000       Jumat            2        80000\n",
      "5       Ani  150000       Sabtu            5       750000\n",
      "6      Budi   70000      Minggu            2       140000\n",
      "g) Frekuensi datang tertinggi: 5, Frekuensi datang terendah: 1\n"
     ]
    }
   ],
   "source": [
    "import pandas as pd\n",
    "\n",
    "data = {\n",
    "    \"Mahasiswa\": [\"Ani\", \"Budi\", \"Jono\", \"Lono\", \"Joni\", \"Ani\", \"Budi\"],\n",
    "    \"Biaya\": [2 * 30000, 3 * 35000, 4 * 25000, 1 * 15000, 2 * 20000, 5 * 30000, 2 * 35000],\n",
    "    \"Hari Datang\": [\"Senin\", \"Selasa\", \"Rabu\", \"Kamis\", \"Jumat\", \"Sabtu\", \"Minggu\"],\n",
    "    \"Jumlah Hari\": [2, 3, 4, 1, 2, 5, 2],\n",
    "}\n",
    "\n",
    "df = pd.DataFrame(data)\n",
    "df['Total Biaya'] = df['Biaya'] * df['Jumlah Hari']\n",
    "print(\"DataFrame:\")\n",
    "print(df)\n",
    "\n",
    "# g) Berapa frekuensi datang tertinggi dan terendah?\n",
    "frekuensi_datang_tertinggi = df['Jumlah Hari'].max()\n",
    "frekuensi_datang_terendah = df['Jumlah Hari'].min()\n",
    "print(f\"g) Frekuensi datang tertinggi: {frekuensi_datang_tertinggi}, Frekuensi datang terendah: {frekuensi_datang_terendah}\")"
   ]
  }
 ],
 "metadata": {
  "kernelspec": {
   "display_name": "Python 3",
   "language": "python",
   "name": "python3"
  },
  "language_info": {
   "codemirror_mode": {
    "name": "ipython",
    "version": 3
   },
   "file_extension": ".py",
   "mimetype": "text/x-python",
   "name": "python",
   "nbconvert_exporter": "python",
   "pygments_lexer": "ipython3",
   "version": "3.10.12"
  }
 },
 "nbformat": 4,
 "nbformat_minor": 2
}
